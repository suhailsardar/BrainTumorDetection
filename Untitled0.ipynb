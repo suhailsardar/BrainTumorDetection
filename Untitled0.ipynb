{
  "nbformat": 4,
  "nbformat_minor": 0,
  "metadata": {
    "colab": {
      "provenance": [],
      "authorship_tag": "ABX9TyP94LFj+fwSP6VkZJKfIy23",
      "include_colab_link": true
    },
    "kernelspec": {
      "name": "python3",
      "display_name": "Python 3"
    },
    "language_info": {
      "name": "python"
    }
  },
  "cells": [
    {
      "cell_type": "markdown",
      "metadata": {
        "id": "view-in-github",
        "colab_type": "text"
      },
      "source": [
        "<a href=\"https://colab.research.google.com/github/suhailsardar/BrainTumorDetection/blob/main/Untitled0.ipynb\" target=\"_parent\"><img src=\"https://colab.research.google.com/assets/colab-badge.svg\" alt=\"Open In Colab\"/></a>"
      ]
    },
    {
      "cell_type": "code",
      "execution_count": null,
      "metadata": {
        "id": "Vvli5g8LxAMS"
      },
      "outputs": [],
      "source": [
        "import numpy as np\n",
        "import tensorflow as tf\n",
        "from keras.preprocessing.image import ImageDataGenerator"
      ]
    },
    {
      "cell_type": "code",
      "source": [
        "import matplotlib.pyplot as plt\n",
        "import matplotlib.image as img\n",
        "\n",
        "image = img.imread('./brain-tumor-detection/1.jpg')\n",
        "plt.imshow(image)\n",
        "plt.show()"
      ],
      "metadata": {
        "id": "qEBUKhMaxEr9"
      },
      "execution_count": null,
      "outputs": []
    },
    {
      "cell_type": "code",
      "source": [
        "#Preprocessing the training data\n",
        "train_datagen = ImageDataGenerator(\n",
        "    rescale=1./255,\n",
        "    shear_range = 0.2,\n",
        "    zoom_range = 0.2,\n",
        "    horizontal_flip=True)\n",
        "train=\"F:/ML/Brain Tumor Detection/brain-tumor-detection/Dataset/train\"\n",
        "training_set = train_datagen.flow_from_directory(train, target_size=(224,224),\n",
        "                                                 batch_size=32,shuffle=True,class_mode='binary')"
      ],
      "metadata": {
        "id": "NThlt3bQxFlK"
      },
      "execution_count": null,
      "outputs": []
    },
    {
      "cell_type": "code",
      "source": [
        "#Preprocessing the testing image\n",
        "test = \"F:/ML/Brain Tumor Detection/brain-tumor-detection/Dataset/test\"\n",
        "test_datagen = ImageDataGenerator(rescale=1./255)\n",
        "test_set = test_datagen.flow_from_directory(test, target_size=(224,224),\n",
        "                                            batch_size=16,shuffle=False,class_mode='binary')"
      ],
      "metadata": {
        "id": "z3BZ8JTexLra"
      },
      "execution_count": null,
      "outputs": []
    },
    {
      "cell_type": "code",
      "source": [
        "#To create a plain layers of stack squential model is used and with the help of this CNN is defined\n",
        "cnn = tf.keras.models.Sequential()\n",
        "\n",
        "cnn.add(tf.keras.layers.Conv2D(filters=224 , kernel_size=3 , activation='relu' , input_shape=[224,224,3]))\n",
        "cnn.add(tf.keras.layers.MaxPool2D(pool_size=2,strides=2))\n",
        "\n",
        "cnn.add(tf.keras.layers.Conv2D(filters=224 , kernel_size=3 , activation='relu' ))\n",
        "cnn.add(tf.keras.layers.MaxPool2D(pool_size=2 , strides=2))\n",
        "\n",
        "cnn.add(tf.keras.layers.Dropout(0.5))\n",
        "cnn.add(tf.keras.layers.Flatten())\n",
        "cnn.add(tf.keras.layers.Dense(units=128, activation='relu'))\n",
        "cnn.add(tf.keras.layers.Dense(units=1 , activation='sigmoid'))\n",
        "\n",
        "\n",
        "cnn.compile(optimizer = 'Adam' , loss = 'binary_crossentropy' , metrics = ['accuracy'])\n"
      ],
      "metadata": {
        "id": "YKWvQNMtxa12"
      },
      "execution_count": null,
      "outputs": []
    },
    {
      "cell_type": "code",
      "source": [
        "# Summary\n",
        "cnn.summry()\n",
        "#\n",
        "# fitting data to the model whereas accuracy increased at every iteration\n",
        "cnn.fit(x = training_set , validation_data = test_set , epochs = 10)\n",
        "training_set.class_indices\n",
        "{'no': 0, 'yes': 1}"
      ],
      "metadata": {
        "id": "i89Zv3Ujxm5y"
      },
      "execution_count": null,
      "outputs": []
    },
    {
      "cell_type": "code",
      "source": [
        "#Giving unseen data to trained model which it predict correctly\n",
        "from keras.preprocessing import image\n",
        "test_image = tf.keras.utils.load_img('F:/ML/Brain Tumor Detection/brain-tumor-detection/Dataset/prediction/yes1.jpg',\n",
        "                                     target_size=(224,224))\n",
        "\n",
        "test_image = tf.keras.utils.img_to_array(test_image)\n",
        "test_image = np.expand_dims(test_image,axis=0)\n",
        "\n",
        "result = cnn.predict(test_image)\n",
        "training_set.class_indices\n",
        "\n",
        "print(result)\n",
        "\n",
        "if result[0][0] == 1:\n",
        "    print('yes')\n",
        "else:\n",
        "    print('no')\n",
        ""
      ],
      "metadata": {
        "id": "lkk54IAhx8tG"
      },
      "execution_count": null,
      "outputs": []
    }
  ]
}